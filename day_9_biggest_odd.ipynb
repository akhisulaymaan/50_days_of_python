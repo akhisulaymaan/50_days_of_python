{
 "cells": [
  {
   "cell_type": "markdown",
   "metadata": {},
   "source": [
    "# Day 9: Biggest Odd Number \n",
    " \n",
    "Create a function called biggest_odd that takes a string of numbers \n",
    "and returns the biggest odd number in the list. For example, if you \n",
    "pass ‘23569’ as an argument, your function should return 9. Use list \n",
    "comprehension."
   ]
  },
  {
   "cell_type": "code",
   "execution_count": 5,
   "metadata": {},
   "outputs": [
    {
     "name": "stdout",
     "output_type": "stream",
     "text": [
      "1\n"
     ]
    }
   ],
   "source": [
    "def biggest_odd(big_odd_num):\n",
    "    numbers = [i for i in big_odd_num if int(i) % 2 != 0]\n",
    "\n",
    "\n",
    "    return max(numbers)\n",
    "\n",
    "print(biggest_odd(\"10000\"))"
   ]
  }
 ],
 "metadata": {
  "kernelspec": {
   "display_name": "Python 3",
   "language": "python",
   "name": "python3"
  },
  "language_info": {
   "codemirror_mode": {
    "name": "ipython",
    "version": 3
   },
   "file_extension": ".py",
   "mimetype": "text/x-python",
   "name": "python",
   "nbconvert_exporter": "python",
   "pygments_lexer": "ipython3",
   "version": "3.12.6"
  }
 },
 "nbformat": 4,
 "nbformat_minor": 2
}
