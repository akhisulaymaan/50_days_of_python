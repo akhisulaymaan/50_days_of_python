{
 "cells": [
  {
   "cell_type": "markdown",
   "metadata": {},
   "source": [
    "# Day 1: Division and Square-root \n",
    " \n",
    "Write a function called divide_or_square that takes one argument (a \n",
    "number), and returns the square root of the number if it is divisible by \n",
    "5, returns its remainder if it is not divisible by 5. For example, if you \n",
    "pass 10 as an argument, then your function should return 3.16 as the \n",
    "square root."
   ]
  },
  {
   "cell_type": "code",
   "execution_count": 10,
   "metadata": {},
   "outputs": [
    {
     "name": "stdout",
     "output_type": "stream",
     "text": [
      "1\n"
     ]
    }
   ],
   "source": [
    "def divide_or_square(number):\n",
    "    if number % 5 == 0:\n",
    "        return number ** 0.5\n",
    "    else:\n",
    "        return number % 5\n",
    "\n",
    "print(divide_or_square(31))"
   ]
  },
  {
   "cell_type": "markdown",
   "metadata": {},
   "source": [
    "# Day 2: Strings to Integers \n",
    " \n",
    "Write a function called convert_add that takes a list of strings as an \n",
    "argument and converts it to integers and sums the list. For example \n",
    "[‘1’, ‘3’, ‘5’] should be converted to [1, 3, 5] and summed to 9. \n",
    "  \n"
   ]
  },
  {
   "cell_type": "code",
   "execution_count": 12,
   "metadata": {},
   "outputs": [
    {
     "name": "stdout",
     "output_type": "stream",
     "text": [
      "[1]\n"
     ]
    }
   ],
   "source": [
    "def convert_add(to_integer):\n",
    "    return [int(to_integer)]\n",
    "\n",
    "print(convert_add('1'))"
   ]
  }
 ],
 "metadata": {
  "kernelspec": {
   "display_name": "Python 3",
   "language": "python",
   "name": "python3"
  },
  "language_info": {
   "codemirror_mode": {
    "name": "ipython",
    "version": 3
   },
   "file_extension": ".py",
   "mimetype": "text/x-python",
   "name": "python",
   "nbconvert_exporter": "python",
   "pygments_lexer": "ipython3",
   "version": "3.12.6"
  }
 },
 "nbformat": 4,
 "nbformat_minor": 2
}
