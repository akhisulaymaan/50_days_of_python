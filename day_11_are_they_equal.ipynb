{
 "cells": [
  {
   "cell_type": "markdown",
   "metadata": {},
   "source": [
    "# Day 11: Are They Equal? \n",
    " \n",
    "Write a function called equal_strings. The function takes two strings \n",
    "as  arguments  and  compares  them.  If  the  strings  are  equal  (if  they \n",
    "have the same characters and have equal length), it should return \n",
    "True, if they are not, it should return False. For example, ‘love’ and \n",
    "‘evol’ should return True."
   ]
  },
  {
   "cell_type": "code",
   "execution_count": 8,
   "metadata": {},
   "outputs": [
    {
     "name": "stdout",
     "output_type": "stream",
     "text": [
      "True\n"
     ]
    }
   ],
   "source": [
    "def equal_strings(on, tw):\n",
    "    one = sorted(on)\n",
    "    two = sorted(tw)\n",
    "\n",
    "    if one == two: #and len(one) == len(two):\n",
    "        return True\n",
    "    else: \n",
    "        return False\n",
    "\n",
    "print(equal_strings('love', 'evol'))"
   ]
  }
 ],
 "metadata": {
  "kernelspec": {
   "display_name": "Python 3",
   "language": "python",
   "name": "python3"
  },
  "language_info": {
   "codemirror_mode": {
    "name": "ipython",
    "version": 3
   },
   "file_extension": ".py",
   "mimetype": "text/x-python",
   "name": "python",
   "nbconvert_exporter": "python",
   "pygments_lexer": "ipython3",
   "version": "3.12.6"
  }
 },
 "nbformat": 4,
 "nbformat_minor": 2
}
