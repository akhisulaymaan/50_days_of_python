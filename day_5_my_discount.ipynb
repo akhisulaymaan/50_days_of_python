{
 "cells": [
  {
   "cell_type": "markdown",
   "metadata": {},
   "source": [
    "# Day 5: My Discount \n",
    " \n",
    "Create  a  function called my_discount.  The  function  takes  no \n",
    "arguments  but  asks  the  user  to  input  the  price  and  the  discount \n",
    "(percentage)  of  the  product.  Once  the  user  inputs  the  price  and \n",
    "discount,  it  calculates  the  price  after  the  discount.  The  function \n",
    "should  return  the  price  after  the  discount.  For  example,  if  the  user \n",
    "enters 150 as price and 15% as the discount, your function should \n",
    "return 127.5. \n",
    "  \n"
   ]
  },
  {
   "cell_type": "code",
   "execution_count": 22,
   "metadata": {},
   "outputs": [
    {
     "name": "stdout",
     "output_type": "stream",
     "text": [
      "127.5\n"
     ]
    }
   ],
   "source": [
    "def my_discount():\n",
    "    price = int(input('input the price:'))\n",
    "    discount = int(input('input the discount:'))\n",
    "\n",
    "    after_discount = price * (100 - discount) / 100\n",
    "    return after_discount\n",
    "\n",
    "print(my_discount())"
   ]
  }
 ],
 "metadata": {
  "kernelspec": {
   "display_name": "Python 3",
   "language": "python",
   "name": "python3"
  },
  "language_info": {
   "codemirror_mode": {
    "name": "ipython",
    "version": 3
   },
   "file_extension": ".py",
   "mimetype": "text/x-python",
   "name": "python",
   "nbconvert_exporter": "python",
   "pygments_lexer": "ipython3",
   "version": "3.12.6"
  }
 },
 "nbformat": 4,
 "nbformat_minor": 2
}
