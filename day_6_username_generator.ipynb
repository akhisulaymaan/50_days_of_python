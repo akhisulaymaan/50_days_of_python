{
 "cells": [
  {
   "cell_type": "markdown",
   "metadata": {},
   "source": [
    "# Day 6: User Name Generator \n",
    " \n",
    "Write a function called user_name that generates a username from \n",
    "the user’s email. The code should ask the user to input an email and \n",
    "the  code  should  return  everything  before  the  @  sign  as  their  user \n",
    "name. For example, if someone enters ben@gmail.com, the code \n",
    "should return ben as their user name."
   ]
  },
  {
   "cell_type": "code",
   "execution_count": 6,
   "metadata": {},
   "outputs": [
    {
     "name": "stdout",
     "output_type": "stream",
     "text": [
      "ddfgjk\n"
     ]
    }
   ],
   "source": [
    "def user_name():\n",
    "    email = input('enter your email:')\n",
    "    \n",
    "    return email.split('@')[0]\n",
    "\n",
    "print(user_name())"
   ]
  }
 ],
 "metadata": {
  "kernelspec": {
   "display_name": "Python 3",
   "language": "python",
   "name": "python3"
  },
  "language_info": {
   "codemirror_mode": {
    "name": "ipython",
    "version": 3
   },
   "file_extension": ".py",
   "mimetype": "text/x-python",
   "name": "python",
   "nbconvert_exporter": "python",
   "pygments_lexer": "ipython3",
   "version": "3.12.6"
  }
 },
 "nbformat": 4,
 "nbformat_minor": 2
}
