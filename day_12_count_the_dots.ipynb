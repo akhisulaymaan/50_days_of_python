{
 "cells": [
  {
   "cell_type": "markdown",
   "metadata": {},
   "source": [
    "# Day 12: (a) Count the Dots \n",
    " \n",
    "Write  a  function  called  count_dots.  This  function  takes  a  string \n",
    "separated by dots as a parameter and counts how many dots are in \n",
    "the string. For example, ‘h.e.l.p.’ should return 4 dots, and ‘he.lp.’ \n",
    "should return 2 dots."
   ]
  },
  {
   "cell_type": "code",
   "execution_count": 4,
   "metadata": {},
   "outputs": [
    {
     "name": "stdout",
     "output_type": "stream",
     "text": [
      "18\n"
     ]
    }
   ],
   "source": [
    "def count_dots(dots):\n",
    "    return dots.count('.')\n",
    "\n",
    "\n",
    "print(count_dots('h.e.l.p...............'))\n"
   ]
  },
  {
   "cell_type": "markdown",
   "metadata": {},
   "source": [
    "# (b) Extra Challenge: Your Age in Minutes \n",
    " \n",
    "Write a function called age_in_minutes that tells a user how old they are in minutes. Your code should ask the user to enter their  year of birth, and it should return their age in minutes (by subtracting their year of birth to the current year). Here are things to look out for: \n",
    " \n",
    "a. The user can only input a 4 digit year of birth. For example, 1930 is a valid year. However, entering any number longer or less than 4 digits long should render input invalid. Notify the user to input a four digits number.\n",
    "\n",
    "b. If a user enters  a year before 1900, your code should tell the \n",
    "user  that  input  is  invalid.  If  the  user  enters  the  year  after  the current year, the code should tell the user, to input a valid year. The code should run until the user inputs a valid year. Your function should return the user's age in minutes. For example, if someone enters 1930, as their year of birth your function should return: You are 48,355,200 minutes old.  \n"
   ]
  },
  {
   "cell_type": "code",
   "execution_count": null,
   "metadata": {},
   "outputs": [
    {
     "name": "stdout",
     "output_type": "stream",
     "text": [
      "please enter a valid year\n",
      "please enter a valid year\n",
      "please enter a valid year\n"
     ]
    }
   ],
   "source": [
    "from datetime import datetime\n",
    "def age_in_minutes():\n",
    "    while True:\n",
    "        age_in_years = input('enter your year of birth: ')\n",
    "        if len(age_in_years) == 4 and 1900 <= int(age_in_years) <= datetime.now().year:\n",
    "            print('please enter a valid year')\n",
    "        else:\n",
    "            print('Invalid input. Please enter a four digit year.')\n",
    "    age_in_minutes = (current_date.year - int(age_in_years)) * 365 * 24 * 60\n",
    "    return age_in_minutes\n",
    "\n",
    "print(age_in_minutes())"
   ]
  },
  {
   "cell_type": "code",
   "execution_count": 2,
   "metadata": {},
   "outputs": [
    {
     "name": "stdout",
     "output_type": "stream",
     "text": [
      "You are 20,498,400 minutes old.\n"
     ]
    }
   ],
   "source": [
    "from datetime import datetime \n",
    " \n",
    " \n",
    "def your_age(): \n",
    "    while True: \n",
    "        birth_year = input('Enter your year of birth: ') \n",
    "        if len(birth_year) != 4: \n",
    "            print('Please enter a four digits year') \n",
    "        elif int(birth_year) < 1900 or int(birth_year) > 2022: \n",
    "            print('Please enter a valid year') \n",
    "        else: \n",
    "            # This returns the current year \n",
    "            now1 = int(datetime.now().strftime(\"%Y\")) \n",
    "            age = (now1 - int(birth_year)) * 525600 \n",
    "            return f'You are {age:,} minutes old.' \n",
    " \n",
    " \n",
    "print(your_age())"
   ]
  }
 ],
 "metadata": {
  "kernelspec": {
   "display_name": "Python 3",
   "language": "python",
   "name": "python3"
  },
  "language_info": {
   "codemirror_mode": {
    "name": "ipython",
    "version": 3
   },
   "file_extension": ".py",
   "mimetype": "text/x-python",
   "name": "python",
   "nbconvert_exporter": "python",
   "pygments_lexer": "ipython3",
   "version": "3.12.6"
  }
 },
 "nbformat": 4,
 "nbformat_minor": 2
}
