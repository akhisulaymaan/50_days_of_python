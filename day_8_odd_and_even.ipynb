{
 "cells": [
  {
   "cell_type": "markdown",
   "metadata": {},
   "source": [
    "# Day 8: Odd and Even \n",
    " \n",
    "Write  a  function  called  odd_even  that  has  one  parameter \n",
    "and  takes  a  list  of  numbers  as  an  argument.  The  function \n",
    "returns  the  difference  between  the  largest  even  number  in \n",
    "the list and the smallest odd number in the list. For example, \n",
    "if  you  pass  [1,2,4,6]  as  an  argument  the  function  should \n",
    "return 6 -1= 5"
   ]
  },
  {
   "cell_type": "code",
   "execution_count": 1,
   "metadata": {},
   "outputs": [
    {
     "name": "stdout",
     "output_type": "stream",
     "text": [
      "8\n"
     ]
    }
   ],
   "source": [
    "def odd_even(number):\n",
    "    return max(number) - min(number)\n",
    "\n",
    "print(odd_even([1,2,4,9]))"
   ]
  }
 ],
 "metadata": {
  "kernelspec": {
   "display_name": "Python 3",
   "language": "python",
   "name": "python3"
  },
  "language_info": {
   "codemirror_mode": {
    "name": "ipython",
    "version": 3
   },
   "file_extension": ".py",
   "mimetype": "text/x-python",
   "name": "python",
   "nbconvert_exporter": "python",
   "pygments_lexer": "ipython3",
   "version": "3.12.6"
  }
 },
 "nbformat": 4,
 "nbformat_minor": 2
}
