{
 "cells": [
  {
   "cell_type": "markdown",
   "metadata": {},
   "source": [
    "#  Day 10: Hide my Password \n",
    " \n",
    "(a). Write  a  function  called  hide_password  that  takes  no  parameters. \n",
    "The function takes an input( a password) from a user and returns a \n",
    "hidden  password.  For  example,  if  the  user  enters  ‘hello’  as  a \n",
    "password the function should return ‘****’ as a password and tell the \n",
    "user that the password is 4 characters long."
   ]
  },
  {
   "cell_type": "code",
   "execution_count": 3,
   "metadata": {},
   "outputs": [
    {
     "name": "stdout",
     "output_type": "stream",
     "text": [
      "*********\n"
     ]
    }
   ],
   "source": [
    "def hide_password():\n",
    "    a_password = input('enter your password: ')\n",
    "    h_password = '*' * len(a_password)\n",
    "    return h_password\n",
    "\n",
    "print(hide_password())"
   ]
  },
  {
   "cell_type": "markdown",
   "metadata": {},
   "source": [
    "# (b). Extra Challenge: Strings With a Thousand Separator \n",
    " \n",
    "Your new company has a list of figures saved in a list. The issue is that these numbers have no separator. The numbers are saved in \n",
    "the following format: \n",
    "[1000000, 2356989, 2354672, 9878098] \n",
    "  \n",
    "You have been asked to write a code that will convert each of the \n",
    "numbers  in  the  list  into  a  string.  Your  code  should  then  add  a \n",
    "comma on each number as a thousand separator for readability. \n",
    "When you run your code on the above list, your output should be : \n",
    " \n",
    "['1,000,000', '2,356,989', '2,354,672', '9,878,098'] \n",
    " \n",
    "Write a function called convert_numbers that will take one \n",
    "argument, a list of numbers above."
   ]
  },
  {
   "cell_type": "code",
   "execution_count": 5,
   "metadata": {},
   "outputs": [
    {
     "name": "stdout",
     "output_type": "stream",
     "text": [
      "['1,000,000', '2,356,989', '2,354,672', '9,878,098']\n"
     ]
    }
   ],
   "source": [
    "def add_commas(numbers):\n",
    "    return ['{:,}'.format(number) if number > 999 else str(number) for number in numbers]\n",
    "\n",
    "print(add_commas([1000000, 2356989, 2354672, 9878098]))"
   ]
  }
 ],
 "metadata": {
  "kernelspec": {
   "display_name": "Python 3",
   "language": "python",
   "name": "python3"
  },
  "language_info": {
   "codemirror_mode": {
    "name": "ipython",
    "version": 3
   },
   "file_extension": ".py",
   "mimetype": "text/x-python",
   "name": "python",
   "nbconvert_exporter": "python",
   "pygments_lexer": "ipython3",
   "version": "3.12.6"
  }
 },
 "nbformat": 4,
 "nbformat_minor": 2
}
