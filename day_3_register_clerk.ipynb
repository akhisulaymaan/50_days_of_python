{
 "cells": [
  {
   "cell_type": "markdown",
   "metadata": {},
   "source": [
    "# Day 3: Register Check \n",
    " \n",
    "Write a function called register_check that checks how many students \n",
    "are  in  school.  The  function  takes  a  dictionary  as  a  parameter.  If  the \n",
    "student  is  in  school,  the  dictionary  says  ‘yes’.  If  the  student  is  not  in \n",
    "school, the dictionary says ‘no’. Your function should return the number \n",
    "of students in school.  Use the dictionary below. Your function should \n",
    "return 3. \n",
    "register = {'Michael':'yes','John': 'no',  \n",
    "            'Peter':'yes', 'Mary': 'yes'} \n",
    "  \n"
   ]
  },
  {
   "cell_type": "code",
   "execution_count": 5,
   "metadata": {},
   "outputs": [
    {
     "name": "stdout",
     "output_type": "stream",
     "text": [
      "('Number of students present is', 3)\n"
     ]
    }
   ],
   "source": [
    "register = {'Michael':'yes','John': 'no',  \n",
    "            'Peter':'yes', 'Mary': 'yes'} \n",
    "  \n",
    "\n",
    "def register_clerk(present):\n",
    "    count = 0\n",
    "    for value in present.values():\n",
    "        if value == 'yes':\n",
    "            count += 1\n",
    "    return 'Number of students present is', count\n",
    "\n",
    "print(register_clerk(register))\n",
    "\n"
   ]
  }
 ],
 "metadata": {
  "kernelspec": {
   "display_name": "Python 3",
   "language": "python",
   "name": "python3"
  },
  "language_info": {
   "codemirror_mode": {
    "name": "ipython",
    "version": 3
   },
   "file_extension": ".py",
   "mimetype": "text/x-python",
   "name": "python",
   "nbconvert_exporter": "python",
   "pygments_lexer": "ipython3",
   "version": "3.12.6"
  }
 },
 "nbformat": 4,
 "nbformat_minor": 2
}
