{
 "cells": [
  {
   "cell_type": "markdown",
   "metadata": {},
   "source": [
    "# Day 7: A String Range \n",
    " \n",
    "Write a function called string_range that takes a single number and \n",
    "returns  a  string  of  its  range.  The  string  characters  should  be \n",
    "separated by dots(.) For example, if you pass  6 as an argument, \n",
    "your function should return ‘0.1.2.3.4.5’."
   ]
  },
  {
   "cell_type": "code",
   "execution_count": null,
   "metadata": {},
   "outputs": [],
   "source": [
    "def string_range(num):\n",
    "    #n = input('input any number:')\n",
    "    n = [str(i) for i in range(num)]\n",
    "    n = '.'.join(n)\n",
    "    return n\n",
    "    \n",
    "print(string_range(100))"
   ]
  }
 ],
 "metadata": {
  "kernelspec": {
   "display_name": "Python 3",
   "language": "python",
   "name": "python3"
  },
  "language_info": {
   "codemirror_mode": {
    "name": "ipython",
    "version": 3
   },
   "file_extension": ".py",
   "mimetype": "text/x-python",
   "name": "python",
   "nbconvert_exporter": "python",
   "pygments_lexer": "ipython3",
   "version": "3.12.6"
  }
 },
 "nbformat": 4,
 "nbformat_minor": 2
}
