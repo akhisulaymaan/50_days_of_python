{
 "cells": [
  {
   "cell_type": "markdown",
   "metadata": {},
   "source": [
    "# Day 4: Only Floats \n",
    " \n",
    "Write a function called  only_floats, which takes two parameters  a \n",
    "and  b,  and  returns  2  if  both  arguments  are  floats,  returns  1  if  only \n",
    "one argument is a float, and returns 0 if neither argument is a float. \n",
    "If you pass (12.1, 23) as an argument, your function should return a \n",
    "1. \n",
    "  \n"
   ]
  },
  {
   "cell_type": "code",
   "execution_count": 3,
   "metadata": {},
   "outputs": [
    {
     "name": "stdout",
     "output_type": "stream",
     "text": [
      "0\n"
     ]
    }
   ],
   "source": [
    "def only_floats(a,b):\n",
    "    if type(a) == float and type(b) == float:\n",
    "        return 2\n",
    "    elif type(a) == float or type(b) == float:\n",
    "        return 1\n",
    "    else:\n",
    "        return 0\n",
    "    \n",
    "print(only_floats(1,12))"
   ]
  }
 ],
 "metadata": {
  "kernelspec": {
   "display_name": "Python 3",
   "language": "python",
   "name": "python3"
  },
  "language_info": {
   "codemirror_mode": {
    "name": "ipython",
    "version": 3
   },
   "file_extension": ".py",
   "mimetype": "text/x-python",
   "name": "python",
   "nbconvert_exporter": "python",
   "pygments_lexer": "ipython3",
   "version": "3.12.6"
  }
 },
 "nbformat": 4,
 "nbformat_minor": 2
}
