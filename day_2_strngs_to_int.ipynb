{
 "cells": [
  {
   "cell_type": "markdown",
   "metadata": {},
   "source": [
    "# Day 2: Strings to Integers \n",
    " \n",
    "Write a function called convert_add that takes a list of strings as an \n",
    "argument and converts it to integers and sums the list. For example \n",
    "[‘1’, ‘3’, ‘5’] should be converted to [1, 3, 5] and summed to 9."
   ]
  },
  {
   "cell_type": "code",
   "execution_count": 3,
   "metadata": {},
   "outputs": [
    {
     "name": "stdout",
     "output_type": "stream",
     "text": [
      "9\n"
     ]
    }
   ],
   "source": [
    "def convert_add(to_integer):\n",
    "\n",
    "    empty_list = []\n",
    "\n",
    "    for element in to_integer:\n",
    "\n",
    "        empty_list.append(int(element))\n",
    "\n",
    "    return sum(empty_list)\n",
    "\n",
    "print(convert_add(['1','3','5']))"
   ]
  }
 ],
 "metadata": {
  "kernelspec": {
   "display_name": "Python 3",
   "language": "python",
   "name": "python3"
  },
  "language_info": {
   "codemirror_mode": {
    "name": "ipython",
    "version": 3
   },
   "file_extension": ".py",
   "mimetype": "text/x-python",
   "name": "python",
   "nbconvert_exporter": "python",
   "pygments_lexer": "ipython3",
   "version": "3.12.6"
  }
 },
 "nbformat": 4,
 "nbformat_minor": 2
}
