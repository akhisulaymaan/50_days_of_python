{
 "cells": [
  {
   "cell_type": "markdown",
   "metadata": {},
   "source": [
    "# Pay your tax\n",
    "Write a function called your_vat. The function takes no parameter. \n",
    "The  function  asks  the  user  to  input  the  price  of  an  item  and  VAT \n",
    "(vat should be a percentage). The function should return the price \n",
    "of the item plus VAT. If the price is 220 and, VAT is 15% your code \n",
    "should return a vat inclusive price of 253. Make sure that your code \n",
    "can handle ValueError. Ensure the code runs until valid numbers \n",
    "are entered. (hint: Your code should include a while loop). "
   ]
  },
  {
   "cell_type": "code",
   "execution_count": 11,
   "metadata": {},
   "outputs": [
    {
     "name": "stdout",
     "output_type": "stream",
     "text": [
      "('The price VAT inclusive is', 115.0)\n"
     ]
    }
   ],
   "source": [
    "def your_vat(): \n",
    "    while True: \n",
    "        try: \n",
    "            price = int(input(\"Enter the price of item: \")) \n",
    "            vat = int(input('Enter vat: ')) \n",
    "        except ValueError: \n",
    "            print(\"Enter a valid number\") \n",
    "        else: \n",
    "            total_price = price + (price * vat / 100 + 1) - 1 \n",
    "            return 'The price VAT inclusive is', total_price \n",
    " \n",
    " \n",
    "print(your_vat())"
   ]
  }
 ],
 "metadata": {
  "kernelspec": {
   "display_name": "Python 3",
   "language": "python",
   "name": "python3"
  },
  "language_info": {
   "codemirror_mode": {
    "name": "ipython",
    "version": 3
   },
   "file_extension": ".py",
   "mimetype": "text/x-python",
   "name": "python",
   "nbconvert_exporter": "python",
   "pygments_lexer": "ipython3",
   "version": "3.12.6"
  }
 },
 "nbformat": 4,
 "nbformat_minor": 2
}
